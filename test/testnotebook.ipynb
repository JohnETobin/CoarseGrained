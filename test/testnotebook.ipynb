{
 "cells": [
  {
   "cell_type": "code",
   "execution_count": 44,
   "metadata": {
    "scrolled": true
   },
   "outputs": [
    {
     "data": {
      "text/plain": [
       "plot_smoothed_surface (generic function with 1 method)"
      ]
     },
     "execution_count": 44,
     "metadata": {},
     "output_type": "execute_result"
    }
   ],
   "source": [
    "using Test\n",
    "include(\"../src/SimulateDynamics.jl\")\n",
    "include(\"../src/GenerateGraphs.jl\")\n",
    "include(\"../src/ReduceNetwork.jl\")\n",
    "include(\"../src/Partition.jl\")\n",
    "include(\"../src/EvaluateError.jl\")\n",
    "include(\"../src/visualize_landscape.jl\")"
   ]
  },
  {
   "cell_type": "code",
   "execution_count": 64,
   "metadata": {},
   "outputs": [
    {
     "name": "stdout",
     "output_type": "stream",
     "text": [
      "start\n"
     ]
    },
    {
     "data": {
      "text/plain": [
       "var\"##802\"(0x00, #undef, nothing, #undef, #undef, #undef, #undef, 1:10, 33, #undef)"
      ]
     },
     "metadata": {},
     "output_type": "display_data"
    },
    {
     "name": "stdout",
     "output_type": "stream",
     "text": [
      "helloout\n",
      "call\n",
      "exhaustivePartition_test: \u001b[91m\u001b[1mError During Test\u001b[22m\u001b[39m at \u001b[39m\u001b[1mC:\\Users\\dlaur\\OneDrive\\Documents\\GitHub\\CoarseGrained\\test\\PartitionTest.jl:1\u001b[22m\n",
      "  Got exception outside of a @test\n",
      "  MethodError: \u001b[0mCannot `convert` an object of type \n",
      "  \u001b[0m  \u001b[92mvar\"##802\"\u001b[39m\u001b[0m to an object of type \n",
      "  \u001b[0m  \u001b[91mUnion{var\"##637\", var\"##796\"}\u001b[39m\n",
      "  \u001b[0mClosest candidates are:\n",
      "  \u001b[0m  convert(::Type{T}, \u001b[91m::T\u001b[39m) where T at C:\\Users\\dlaur\\AppData\\Local\\Programs\\Julia-1.7.3\\share\\julia\\base\\essentials.jl:218\n",
      "  Stacktrace:\n",
      "    [1] \u001b[0m\u001b[1msetproperty!\u001b[22m\u001b[0m\u001b[1m(\u001b[22m\u001b[90mx\u001b[39m::\u001b[0mvar\"##802\", \u001b[90mf\u001b[39m::\u001b[0mSymbol, \u001b[90mv\u001b[39m::\u001b[0mvar\"##802\"\u001b[0m\u001b[1m)\u001b[22m\n",
      "  \u001b[90m    @ \u001b[39m\u001b[90mBase\u001b[39m \u001b[90m.\\\u001b[39m\u001b[90m\u001b[4mBase.jl:43\u001b[24m\u001b[39m\n",
      "    [2] \u001b[0m\u001b[1m(::var\"##802\")\u001b[22m\u001b[0m\u001b[1m(\u001b[22m\u001b[90m_arg\u001b[39m::\u001b[0mNothing\u001b[0m\u001b[1m)\u001b[22m\n",
      "  \u001b[90m    @ \u001b[39m\u001b[35mMain\u001b[39m \u001b[90mC:\\Users\\dlaur\\.julia\\packages\\ResumableFunctions\\O7CSx\\src\\\u001b[39m\u001b[90m\u001b[4mmacro.jl:22\u001b[24m\u001b[39m\n",
      "    [3] \u001b[0m\u001b[1m##802\u001b[22m\n",
      "  \u001b[90m    @ \u001b[39m\u001b[90mC:\\Users\\dlaur\\.julia\\packages\\ResumableFunctions\\O7CSx\\src\\\u001b[39m\u001b[90m\u001b[4mmacro.jl:96\u001b[24m\u001b[39m\u001b[90m [inlined]\u001b[39m\n",
      "    [4] \u001b[0m\u001b[1miterate\u001b[22m\u001b[90m (repeats 2 times)\u001b[39m\n",
      "  \u001b[90m    @ \u001b[39m\u001b[90mC:\\Users\\dlaur\\.julia\\packages\\ResumableFunctions\\O7CSx\\src\\\u001b[39m\u001b[90m\u001b[4mtypes.jl:25\u001b[24m\u001b[39m\u001b[90m [inlined]\u001b[39m\n",
      "    [5] \u001b[0m\u001b[1miterate\u001b[22m\n",
      "  \u001b[90m    @ \u001b[39m\u001b[90m.\\\u001b[39m\u001b[90m\u001b[4miterators.jl:159\u001b[24m\u001b[39m\u001b[90m [inlined]\u001b[39m\n",
      "    [6] \u001b[0m\u001b[1miterate\u001b[22m\n",
      "  \u001b[90m    @ \u001b[39m\u001b[90m.\\\u001b[39m\u001b[90m\u001b[4miterators.jl:158\u001b[24m\u001b[39m\u001b[90m [inlined]\u001b[39m\n",
      "    [7] \u001b[0m\u001b[1mexhaustivePartition\u001b[22m\u001b[0m\u001b[1m(\u001b[22m\u001b[90mn\u001b[39m::\u001b[0mInt64\u001b[0m\u001b[1m)\u001b[22m\n",
      "  \u001b[90m    @ \u001b[39m\u001b[35mMain\u001b[39m \u001b[90mC:\\Users\\dlaur\\OneDrive\\Documents\\GitHub\\CoarseGrained\\src\\\u001b[39m\u001b[90m\u001b[4mPartition.jl:150\u001b[24m\u001b[39m\n",
      "    [8] \u001b[0m\u001b[1mmacro expansion\u001b[22m\n",
      "  \u001b[90m    @ \u001b[39m\u001b[90mC:\\Users\\dlaur\\OneDrive\\Documents\\GitHub\\CoarseGrained\\test\\\u001b[39m\u001b[90m\u001b[4mPartitionTest.jl:2\u001b[24m\u001b[39m\u001b[90m [inlined]\u001b[39m\n",
      "    [9] \u001b[0m\u001b[1mmacro expansion\u001b[22m\n",
      "  \u001b[90m    @ \u001b[39m\u001b[90mC:\\Users\\dlaur\\AppData\\Local\\Programs\\Julia-1.7.3\\share\\julia\\stdlib\\v1.7\\Test\\src\\\u001b[39m\u001b[90m\u001b[4mTest.jl:1283\u001b[24m\u001b[39m\u001b[90m [inlined]\u001b[39m\n",
      "   [10] top-level scope\n",
      "  \u001b[90m    @ \u001b[39m\u001b[90mC:\\Users\\dlaur\\OneDrive\\Documents\\GitHub\\CoarseGrained\\test\\\u001b[39m\u001b[90m\u001b[4mPartitionTest.jl:2\u001b[24m\u001b[39m\n",
      "   [11] \u001b[0m\u001b[1minclude\u001b[22m\u001b[0m\u001b[1m(\u001b[22m\u001b[90mfname\u001b[39m::\u001b[0mString\u001b[0m\u001b[1m)\u001b[22m\n",
      "  \u001b[90m    @ \u001b[39m\u001b[90mBase.MainInclude\u001b[39m \u001b[90m.\\\u001b[39m\u001b[90m\u001b[4mclient.jl:451\u001b[24m\u001b[39m\n",
      "   [12] top-level scope\n",
      "  \u001b[90m    @ \u001b[39m\u001b[90m\u001b[4mIn[64]:7\u001b[24m\u001b[39m\n",
      "   [13] \u001b[0m\u001b[1meval\u001b[22m\n",
      "  \u001b[90m    @ \u001b[39m\u001b[90m.\\\u001b[39m\u001b[90m\u001b[4mboot.jl:373\u001b[24m\u001b[39m\u001b[90m [inlined]\u001b[39m\n",
      "   [14] \u001b[0m\u001b[1minclude_string\u001b[22m\u001b[0m\u001b[1m(\u001b[22m\u001b[90mmapexpr\u001b[39m::\u001b[0mtypeof(REPL.softscope), \u001b[90mmod\u001b[39m::\u001b[0mModule, \u001b[90mcode\u001b[39m::\u001b[0mString, \u001b[90mfilename\u001b[39m::\u001b[0mString\u001b[0m\u001b[1m)\u001b[22m\n",
      "  \u001b[90m    @ \u001b[39m\u001b[90mBase\u001b[39m \u001b[90m.\\\u001b[39m\u001b[90m\u001b[4mloading.jl:1196\u001b[24m\u001b[39m\n",
      "   [15] \u001b[0m\u001b[1msoftscope_include_string\u001b[22m\u001b[0m\u001b[1m(\u001b[22m\u001b[90mm\u001b[39m::\u001b[0mModule, \u001b[90mcode\u001b[39m::\u001b[0mString, \u001b[90mfilename\u001b[39m::\u001b[0mString\u001b[0m\u001b[1m)\u001b[22m\n",
      "  \u001b[90m    @ \u001b[39m\u001b[36mSoftGlobalScope\u001b[39m \u001b[90mC:\\Users\\dlaur\\.julia\\packages\\SoftGlobalScope\\u4UzH\\src\\\u001b[39m\u001b[90m\u001b[4mSoftGlobalScope.jl:65\u001b[24m\u001b[39m\n",
      "   [16] \u001b[0m\u001b[1mexecute_request\u001b[22m\u001b[0m\u001b[1m(\u001b[22m\u001b[90msocket\u001b[39m::\u001b[0mZMQ.Socket, \u001b[90mmsg\u001b[39m::\u001b[0mIJulia.Msg\u001b[0m\u001b[1m)\u001b[22m\n",
      "  \u001b[90m    @ \u001b[39m\u001b[32mIJulia\u001b[39m \u001b[90mC:\\Users\\dlaur\\.julia\\packages\\IJulia\\AQu2H\\src\\\u001b[39m\u001b[90m\u001b[4mexecute_request.jl:67\u001b[24m\u001b[39m\n",
      "   [17] \u001b[0m\u001b[1m#invokelatest#2\u001b[22m\n",
      "  \u001b[90m    @ \u001b[39m\u001b[90m.\\\u001b[39m\u001b[90m\u001b[4messentials.jl:716\u001b[24m\u001b[39m\u001b[90m [inlined]\u001b[39m\n",
      "   [18] \u001b[0m\u001b[1minvokelatest\u001b[22m\n",
      "  \u001b[90m    @ \u001b[39m\u001b[90m.\\\u001b[39m\u001b[90m\u001b[4messentials.jl:714\u001b[24m\u001b[39m\u001b[90m [inlined]\u001b[39m\n",
      "   [19] \u001b[0m\u001b[1meventloop\u001b[22m\u001b[0m\u001b[1m(\u001b[22m\u001b[90msocket\u001b[39m::\u001b[0mZMQ.Socket\u001b[0m\u001b[1m)\u001b[22m\n",
      "  \u001b[90m    @ \u001b[39m\u001b[32mIJulia\u001b[39m \u001b[90mC:\\Users\\dlaur\\.julia\\packages\\IJulia\\AQu2H\\src\\\u001b[39m\u001b[90m\u001b[4meventloop.jl:8\u001b[24m\u001b[39m\n",
      "   [20] \u001b[0m\u001b[1meventloop\u001b[22m\u001b[0m\u001b[1m(\u001b[22m\u001b[90msocket\u001b[39m::\u001b[0mZMQ.Socket\u001b[0m\u001b[1m)\u001b[22m\n",
      "  \u001b[90m    @ \u001b[39m\u001b[32mIJulia\u001b[39m \u001b[90mC:\\Users\\dlaur\\.julia\\packages\\IJulia\\AQu2H\\src\\\u001b[39m\u001b[90m\u001b[4meventloop.jl:28\u001b[24m\u001b[39m\n",
      "   [21] \u001b[0m\u001b[1m(::IJulia.var\"#15#18\")\u001b[22m\u001b[0m\u001b[1m(\u001b[22m\u001b[0m\u001b[1m)\u001b[22m\n",
      "  \u001b[90m    @ \u001b[39m\u001b[32mIJulia\u001b[39m \u001b[90m.\\\u001b[39m\u001b[90m\u001b[4mtask.jl:429\u001b[24m\u001b[39m\n",
      "  \n",
      "  \u001b[91mcaused by: \u001b[39mInterruptException:\n",
      "  Stacktrace:\n",
      "    [1] \u001b[0m\u001b[1mtry_yieldto\u001b[22m\u001b[0m\u001b[1m(\u001b[22m\u001b[90mundo\u001b[39m::\u001b[0mtypeof(Base.ensure_rescheduled)\u001b[0m\u001b[1m)\u001b[22m\n",
      "  \u001b[90m    @ \u001b[39m\u001b[90mBase\u001b[39m \u001b[90m.\\\u001b[39m\u001b[90m\u001b[4mtask.jl:812\u001b[24m\u001b[39m\n",
      "    [2] \u001b[0m\u001b[1mwait\u001b[22m\u001b[0m\u001b[1m(\u001b[22m\u001b[0m\u001b[1m)\u001b[22m\n",
      "  \u001b[90m    @ \u001b[39m\u001b[90mBase\u001b[39m \u001b[90m.\\\u001b[39m\u001b[90m\u001b[4mtask.jl:872\u001b[24m\u001b[39m\n",
      "    [3] \u001b[0m\u001b[1mwait\u001b[22m\u001b[0m\u001b[1m(\u001b[22m\u001b[90mc\u001b[39m::\u001b[0mBase.GenericCondition\u001b[90m{Base.Threads.SpinLock}\u001b[39m\u001b[0m\u001b[1m)\u001b[22m\n",
      "  \u001b[90m    @ \u001b[39m\u001b[90mBase\u001b[39m \u001b[90m.\\\u001b[39m\u001b[90m\u001b[4mcondition.jl:123\u001b[24m\u001b[39m\n",
      "    [4] \u001b[0m\u001b[1mwait\u001b[22m\u001b[0m\u001b[1m(\u001b[22m\u001b[90mfdw\u001b[39m::\u001b[0mFileWatching._FDWatcher; \u001b[90mreadable\u001b[39m::\u001b[0mBool, \u001b[90mwritable\u001b[39m::\u001b[0mBool\u001b[0m\u001b[1m)\u001b[22m\n",
      "  \u001b[90m    @ \u001b[39m\u001b[35mFileWatching\u001b[39m \u001b[90mC:\\Users\\dlaur\\AppData\\Local\\Programs\\Julia-1.7.3\\share\\julia\\stdlib\\v1.7\\FileWatching\\src\\\u001b[39m\u001b[90m\u001b[4mFileWatching.jl:533\u001b[24m\u001b[39m\n",
      "    [5] \u001b[0m\u001b[1mwait\u001b[22m\n",
      "  \u001b[90m    @ \u001b[39m\u001b[90mC:\\Users\\dlaur\\.julia\\packages\\ZMQ\\R3wSD\\src\\\u001b[39m\u001b[90m\u001b[4msocket.jl:52\u001b[24m\u001b[39m\u001b[90m [inlined]\u001b[39m\n",
      "    [6] \u001b[0m\u001b[1m_recv!\u001b[22m\u001b[0m\u001b[1m(\u001b[22m\u001b[90msocket\u001b[39m::\u001b[0mZMQ.Socket, \u001b[90mzmsg\u001b[39m::\u001b[0mBase.RefValue\u001b[90m{ZMQ._Message}\u001b[39m\u001b[0m\u001b[1m)\u001b[22m\n",
      "  \u001b[90m    @ \u001b[39m\u001b[36mZMQ\u001b[39m \u001b[90mC:\\Users\\dlaur\\.julia\\packages\\ZMQ\\R3wSD\\src\\\u001b[39m\u001b[90m\u001b[4mcomm.jl:75\u001b[24m\u001b[39m\n",
      "    [7] \u001b[0m\u001b[1mrecv\u001b[22m\u001b[0m\u001b[1m(\u001b[22m\u001b[90msocket\u001b[39m::\u001b[0mZMQ.Socket, \u001b[90m#unused#\u001b[39m::\u001b[0mType\u001b[90m{String}\u001b[39m\u001b[0m\u001b[1m)\u001b[22m\n",
      "  \u001b[90m    @ \u001b[39m\u001b[36mZMQ\u001b[39m \u001b[90mC:\\Users\\dlaur\\.julia\\packages\\ZMQ\\R3wSD\\src\\\u001b[39m\u001b[90m\u001b[4mcomm.jl:106\u001b[24m\u001b[39m\n",
      "    [8] \u001b[0m\u001b[1mrecv_ipython\u001b[22m\u001b[0m\u001b[1m(\u001b[22m\u001b[90msocket\u001b[39m::\u001b[0mZMQ.Socket\u001b[0m\u001b[1m)\u001b[22m\n",
      "  \u001b[90m    @ \u001b[39m\u001b[32mIJulia\u001b[39m \u001b[90mC:\\Users\\dlaur\\.julia\\packages\\IJulia\\AQu2H\\src\\\u001b[39m\u001b[90m\u001b[4mmsg.jl:69\u001b[24m\u001b[39m\n",
      "    [9] \u001b[0m\u001b[1meventloop\u001b[22m\u001b[0m\u001b[1m(\u001b[22m\u001b[90msocket\u001b[39m::\u001b[0mZMQ.Socket\u001b[0m\u001b[1m)\u001b[22m\n",
      "  \u001b[90m    @ \u001b[39m\u001b[32mIJulia\u001b[39m \u001b[90mC:\\Users\\dlaur\\.julia\\packages\\IJulia\\AQu2H\\src\\\u001b[39m\u001b[90m\u001b[4meventloop.jl:5\u001b[24m\u001b[39m\n",
      "   [10] \u001b[0m\u001b[1m(::IJulia.var\"#15#18\")\u001b[22m\u001b[0m\u001b[1m(\u001b[22m\u001b[0m\u001b[1m)\u001b[22m\n",
      "  \u001b[90m    @ \u001b[39m\u001b[32mIJulia\u001b[39m \u001b[90m.\\\u001b[39m\u001b[90m\u001b[4mtask.jl:429\u001b[24m\u001b[39m\n",
      "\u001b[0m\u001b[1mTest Summary:            | \u001b[22m\u001b[91m\u001b[1mError  \u001b[22m\u001b[39m\u001b[36m\u001b[1mTotal\u001b[22m\u001b[39m\n",
      "exhaustivePartition_test | \u001b[91m    1  \u001b[39m\u001b[36m    1\u001b[39m\n"
     ]
    },
    {
     "ename": "LoadError",
     "evalue": "LoadError: \u001b[91mSome tests did not pass: 0 passed, 0 failed, 1 errored, 0 broken.\u001b[39m\nin expression starting at C:\\Users\\dlaur\\OneDrive\\Documents\\GitHub\\CoarseGrained\\test\\PartitionTest.jl:1",
     "output_type": "error",
     "traceback": [
      "LoadError: \u001b[91mSome tests did not pass: 0 passed, 0 failed, 1 errored, 0 broken.\u001b[39m\nin expression starting at C:\\Users\\dlaur\\OneDrive\\Documents\\GitHub\\CoarseGrained\\test\\PartitionTest.jl:1",
      "",
      "Stacktrace:",
      " [1] finish(ts::Test.DefaultTestSet)",
      "   @ Test C:\\Users\\dlaur\\AppData\\Local\\Programs\\Julia-1.7.3\\share\\julia\\stdlib\\v1.7\\Test\\src\\Test.jl:1044",
      " [2] macro expansion",
      "   @ C:\\Users\\dlaur\\AppData\\Local\\Programs\\Julia-1.7.3\\share\\julia\\stdlib\\v1.7\\Test\\src\\Test.jl:1294 [inlined]",
      " [3] top-level scope",
      "   @ C:\\Users\\dlaur\\OneDrive\\Documents\\GitHub\\CoarseGrained\\test\\PartitionTest.jl:2",
      " [4] include(fname::String)",
      "   @ Base.MainInclude .\\client.jl:451",
      " [5] top-level scope",
      "   @ In[64]:7",
      " [6] eval",
      "   @ .\\boot.jl:373 [inlined]",
      " [7] include_string(mapexpr::typeof(REPL.softscope), mod::Module, code::String, filename::String)",
      "   @ Base .\\loading.jl:1196"
     ]
    }
   ],
   "source": [
    "#include(\"SimulateDynamicsTest.jl\")\n",
    "#include(\"GenerateGraphsTest.jl\")\n",
    "#include(\"ReduceNetworkTest.jl\")\n",
    "#include(\"EvaluateErrorTest.jl\")\n",
    "#include(\"VisualizeLandscapeTest.jl\")\n",
    "include(\"../src/Partition.jl\")\n",
    "include(\"PartitionTest.jl\")"
   ]
  },
  {
   "cell_type": "code",
   "execution_count": null,
   "metadata": {},
   "outputs": [],
   "source": []
  }
 ],
 "metadata": {
  "kernelspec": {
   "display_name": "Julia 1.7.3",
   "language": "julia",
   "name": "julia-1.7"
  },
  "language_info": {
   "file_extension": ".jl",
   "mimetype": "application/julia",
   "name": "julia",
   "version": "1.7.3"
  }
 },
 "nbformat": 4,
 "nbformat_minor": 4
}

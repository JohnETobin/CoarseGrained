{
 "cells": [
  {
   "cell_type": "code",
   "execution_count": 44,
   "metadata": {
    "scrolled": true
   },
   "outputs": [
    {
     "data": {
      "text/plain": [
       "plot_smoothed_surface (generic function with 1 method)"
      ]
     },
     "execution_count": 44,
     "metadata": {},
     "output_type": "execute_result"
    }
   ],
   "source": [
    "using Test\n",
    "include(\"../src/SimulateDynamics.jl\")\n",
    "include(\"../src/GenerateGraphs.jl\")\n",
    "include(\"../src/ReduceNetwork.jl\")\n",
    "include(\"../src/Partition.jl\")\n",
    "include(\"../src/EvaluateError.jl\")\n",
    "include(\"../src/visualize_landscape.jl\")"
   ]
  },
  {
   "cell_type": "code",
   "execution_count": 46,
   "metadata": {},
   "outputs": [
    {
     "data": {
      "text/plain": [
       "1-element Vector{UnitRange{Int64}}:\n",
       " 1:10"
      ]
     },
     "metadata": {},
     "output_type": "display_data"
    },
    {
     "data": {
      "text/plain": [
       "Dict{Integer, Dict{Integer, Integer}} with 1 entry:\n",
       "  1 => Dict(5=>1, 4=>1, 6=>1, 7=>1, 2=>1, 10=>1, 9=>1, 8=>1, 3=>1, 1=>1…)"
      ]
     },
     "metadata": {},
     "output_type": "display_data"
    },
    {
     "name": "stdout",
     "output_type": "stream",
     "text": [
      "\u001b[0m\u001b[1mTest Summary:            |\u001b[22m\n",
      "exhaustivePartition_test | \u001b[36mNo tests\u001b[39m\n"
     ]
    },
    {
     "data": {
      "text/plain": [
       "Test.DefaultTestSet(\"exhaustivePartition_test\", Any[], 0, false, false)"
      ]
     },
     "execution_count": 46,
     "metadata": {},
     "output_type": "execute_result"
    }
   ],
   "source": [
    "#include(\"SimulateDynamicsTest.jl\")\n",
    "#include(\"GenerateGraphsTest.jl\")\n",
    "#include(\"ReduceNetworkTest.jl\")\n",
    "#include(\"EvaluateErrorTest.jl\")\n",
    "#include(\"VisualizeLandscapeTest.jl\")\n",
    "include(\"../src/Partition.jl\")\n",
    "include(\"PartitionTest.jl\")"
   ]
  },
  {
   "cell_type": "code",
   "execution_count": null,
   "metadata": {},
   "outputs": [],
   "source": []
  }
 ],
 "metadata": {
  "kernelspec": {
   "display_name": "Julia 1.7.3",
   "language": "julia",
   "name": "julia-1.7"
  },
  "language_info": {
   "file_extension": ".jl",
   "mimetype": "application/julia",
   "name": "julia",
   "version": "1.7.3"
  }
 },
 "nbformat": 4,
 "nbformat_minor": 4
}

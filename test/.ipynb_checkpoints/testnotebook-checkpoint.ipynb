{
 "cells": [
  {
   "cell_type": "code",
   "execution_count": 1,
   "metadata": {
    "scrolled": true
   },
   "outputs": [
    {
     "data": {
      "text/plain": [
       "subplot_smoothed_surface (generic function with 2 methods)"
      ]
     },
     "execution_count": 1,
     "metadata": {},
     "output_type": "execute_result"
    }
   ],
   "source": [
    "using Test\n",
    "include(\"../src/SimulateDynamics.jl\")\n",
    "include(\"../src/GenerateGraphs.jl\")\n",
    "include(\"../src/ReduceNetwork.jl\")\n",
    "include(\"../src/Partition.jl\")\n",
    "include(\"../src/EvaluateError.jl\")\n",
    "include(\"../src/visualize_landscape.jl\")"
   ]
  },
  {
   "cell_type": "code",
   "execution_count": null,
   "metadata": {},
   "outputs": [],
   "source": [
    "#include(\"SimulateDynamicsTest.jl\")\n",
    "#include(\"GenerateGraphsTest.jl\")\n",
    "#include(\"ReduceNetworkTest.jl\")\n",
    "#include(\"EvaluateErrorTest.jl\")\n",
    "#include(\"VisualizeLandscapeTest.jl\")\n",
    "include(\"../src/Partition.jl\")\n",
    "println(\"Begin Testing...\")\n",
    "include(\"PartitionTest.jl\")"
   ]
  },
  {
   "cell_type": "code",
   "execution_count": null,
   "metadata": {},
   "outputs": [],
   "source": []
  },
  {
   "cell_type": "code",
   "execution_count": null,
   "metadata": {},
   "outputs": [],
   "source": []
  }
 ],
 "metadata": {
  "kernelspec": {
   "display_name": "Julia 1.7.3",
   "language": "julia",
   "name": "julia-1.7"
  },
  "language_info": {
   "file_extension": ".jl",
   "mimetype": "application/julia",
   "name": "julia",
   "version": "1.7.3"
  }
 },
 "nbformat": 4,
 "nbformat_minor": 4
}
